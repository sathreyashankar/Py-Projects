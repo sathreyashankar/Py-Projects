{
 "cells": [
  {
   "cell_type": "code",
   "execution_count": 1,
   "id": "d805d4a9-72cb-4edb-bf5b-0dcf80fb8044",
   "metadata": {},
   "outputs": [],
   "source": [
    "# Read an image\n",
    "from PIL import Image\n",
    "image_path = \"image.jpg\"\n",
    "image = Image.open(image_path)\n",
    "width, height = image.size\n",
    "format = image.format\n",
    "mode = image.mode\n",
    "image.show()"
   ]
  }
 ],
 "metadata": {
  "kernelspec": {
   "display_name": "Python 3 (ipykernel)",
   "language": "python",
   "name": "python3"
  },
  "language_info": {
   "codemirror_mode": {
    "name": "ipython",
    "version": 3
   },
   "file_extension": ".py",
   "mimetype": "text/x-python",
   "name": "python",
   "nbconvert_exporter": "python",
   "pygments_lexer": "ipython3",
   "version": "3.11.4"
  }
 },
 "nbformat": 4,
 "nbformat_minor": 5
}
